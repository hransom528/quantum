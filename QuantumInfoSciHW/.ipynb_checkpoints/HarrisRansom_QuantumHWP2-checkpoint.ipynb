{
 "cells": [
  {
   "cell_type": "markdown",
   "id": "804ebcc2-a028-42e2-b9f1-09e8b66a517e",
   "metadata": {},
   "source": [
    "# Quantum Information Science HW P2\n",
    "### Harris A. Ransom\n",
    "### 11/11/24"
   ]
  },
  {
   "cell_type": "markdown",
   "id": "e9024a99-dd45-4cd8-9d6a-ac8fdbeea335",
   "metadata": {},
   "source": [
    "## Question 1"
   ]
  },
  {
   "cell_type": "markdown",
   "id": "7bc9fe42-105b-47fa-8a43-ddf6f9f63dc4",
   "metadata": {},
   "source": [
    "Each Tanner graph is considered a **bipartite** graph, since it can be divided into two sets of nodes that do not have any intraconnecting edges within their respective sets.\n",
    "For a random (3;6) Tanner graph, we can compute: \n",
    "- $\\lambda (x) = $\n",
    "- $\\rho (x) = $"
   ]
  },
  {
   "cell_type": "markdown",
   "id": "8370dfcb-04d4-4f57-a417-aa6ded87a454",
   "metadata": {},
   "source": [
    "## Question 2"
   ]
  },
  {
   "cell_type": "markdown",
   "id": "db3ad4f3-1b04-4681-9300-211e8a2dec69",
   "metadata": {},
   "source": [
    "### Question 2a"
   ]
  },
  {
   "cell_type": "markdown",
   "id": "b81c1f08-0e8b-4b3b-ba82-18f87250a92b",
   "metadata": {},
   "source": []
  },
  {
   "cell_type": "markdown",
   "id": "987c58a1-12b6-4ab0-a43f-106397251f28",
   "metadata": {},
   "source": [
    "### Question 2b"
   ]
  },
  {
   "cell_type": "code",
   "execution_count": null,
   "id": "2e345cc4-9ab9-4835-9b62-3275b082e9a5",
   "metadata": {},
   "outputs": [],
   "source": []
  }
 ],
 "metadata": {
  "kernelspec": {
   "display_name": "Python 3 (ipykernel)",
   "language": "python",
   "name": "python3"
  },
  "language_info": {
   "codemirror_mode": {
    "name": "ipython",
    "version": 3
   },
   "file_extension": ".py",
   "mimetype": "text/x-python",
   "name": "python",
   "nbconvert_exporter": "python",
   "pygments_lexer": "ipython3",
   "version": "3.10.6"
  }
 },
 "nbformat": 4,
 "nbformat_minor": 5
}
