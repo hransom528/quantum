{
 "cells": [
  {
   "cell_type": "markdown",
   "id": "11492658",
   "metadata": {},
   "source": [
    "# Quantum Information Science HW P3\n",
    "### Harris A. Ransom\n",
    "### 11/27/24"
   ]
  },
  {
   "cell_type": "code",
   "execution_count": 4,
   "id": "a4720814",
   "metadata": {},
   "outputs": [],
   "source": [
    "# Imports\n",
    "import math\n",
    "import matplotlib.pyplot as plt\n",
    "\n",
    "# Imports from Qiskit\n",
    "import qiskit\n",
    "from qiskit import QuantumCircuit\n",
    "from qiskit.circuit.library import GroverOperator, MCMT, ZGate\n",
    "from qiskit.visualization import plot_distribution\n",
    "\n",
    "# Imports from Qiskit Runtime\n",
    "from qiskit_ibm_runtime import QiskitRuntimeService\n",
    "from qiskit_ibm_runtime import SamplerV2 as Sampler"
   ]
  },
  {
   "cell_type": "markdown",
   "id": "46452e69",
   "metadata": {},
   "source": [
    "## Question 1"
   ]
  },
  {
   "cell_type": "markdown",
   "id": "9365da99",
   "metadata": {},
   "source": [
    "Derivation of three Grover’s iterations for N = 32:\n",
    "\n",
    "### Definitions\n",
    "- $U_{\\omega} = I - 2|\\omega \\rangle \\langle \\omega| $\n",
    "- **Grover Diffusion Operator:** $U_{|\\psi_0 \\rangle} = 2 |\\psi_0 \\rangle \\langle \\psi_0| - I$\n",
    "\n",
    "### Initialization\n",
    "Apply Hadamard gates to achieve a uniform superposition of basis states:\n",
    "\n",
    "$|\\psi_0 \\rangle = \\displaystyle \\frac{1}{\\sqrt{32}} \\sum_{x=0}^{31}|x \\rangle $\n",
    "\n",
    "### Iteration 1\n",
    "$U_{\\omega}(|\\psi_0 \\rangle) = (I - 2|\\omega \\rangle \\langle \\omega|) |\\psi_0 \\rangle = |\\psi_0 \\rangle - (2 |\\omega \\rangle \\langle \\omega | \\psi_0 \\rangle ) = |\\psi_0 \\rangle - \\frac{2}{\\sqrt{32}} |\\omega \\rangle $\n",
    "\n",
    "$U_{|\\psi_0 \\rangle}(|\\psi_0 \\rangle - \\frac{2}{\\sqrt{32}} |\\omega \\rangle) = (2 |\\psi_0 \\rangle \\langle \\psi_0| - I) \\cdot (|\\psi_0 \\rangle - \\frac{2}{\\sqrt{32}} |\\omega \\rangle)$\n",
    "\n",
    "$U_{|\\psi_0 \\rangle}(|\\psi_0 \\rangle - \\frac{2}{\\sqrt{32}} |\\omega \\rangle) = (2 |\\psi_0 \\rangle \\langle \\psi_0| \\psi_0 \\rangle - |\\psi_0 \\rangle) - (\\frac{4}{\\sqrt{32}} |\\psi_0 \\rangle \\langle \\psi_0| \\omega \\rangle - \\frac{2}{\\sqrt{32}} | \\omega \\rangle)$\n",
    "\n",
    "$U_{|\\psi_0 \\rangle}(|\\psi_0 \\rangle - \\frac{2}{\\sqrt{32}} |\\omega \\rangle) = 2 |\\psi_0 \\rangle  - |\\psi_0 \\rangle - \\frac{4}{\\sqrt{32}} |\\psi_0 \\rangle \\langle \\psi_0| \\omega \\rangle +\\frac{2}{\\sqrt{32}} | \\omega \\rangle$\n",
    "\n",
    "$U_{|\\psi_0 \\rangle}(|\\psi_0 \\rangle - \\frac{2}{\\sqrt{32}} |\\omega \\rangle) = 2 |\\psi_0 \\rangle  - |\\psi_0 \\rangle - \\frac{4}{32} |\\psi_0 \\rangle +\\frac{2}{\\sqrt{32}} | \\omega \\rangle$\n",
    "\n",
    "$U_{|\\psi_0 \\rangle}(|\\psi_0 \\rangle - \\frac{2}{\\sqrt{32}} |\\omega \\rangle) = \\frac{7}{8} |\\psi_0 \\rangle + \\frac{1}{2 \\sqrt{2}} | \\omega \\rangle = | \\psi_1 \\rangle$\n",
    "\n",
    "\n",
    "### Iteration 2\n",
    "$U_{\\omega}(|\\psi_1 \\rangle) = (I - 2|\\omega \\rangle \\langle \\omega|) |\\psi_1 \\rangle = |\\psi_1 \\rangle - (2 |\\omega \\rangle \\langle \\omega | \\psi_1 \\rangle ) = |\\psi_1 \\rangle - \\frac{2}{\\sqrt{32}} |\\omega \\rangle $\n",
    "\n",
    "$U_{|\\psi_1 \\rangle}(|\\psi_1 \\rangle - \\frac{2}{\\sqrt{32}} |\\omega \\rangle) = (2 |\\psi_1 \\rangle \\langle \\psi_1| - I) \\cdot (|\\psi_1 \\rangle - \\frac{2}{\\sqrt{32}} |\\omega \\rangle)$\n",
    "\n",
    "$U_{|\\psi_1 \\rangle}(|\\psi_1 \\rangle - \\frac{2}{\\sqrt{32}} |\\omega \\rangle) = (2 |\\psi_1 \\rangle \\langle \\psi_1| \\psi_1 \\rangle - |\\psi_1 \\rangle) - (\\frac{4}{\\sqrt{32}} |\\psi_1 \\rangle \\langle \\psi_1| \\omega \\rangle - \\frac{2}{\\sqrt{32}} | \\omega \\rangle)$\n",
    "\n",
    "$U_{|\\psi_1 \\rangle}(|\\psi_1 \\rangle - \\frac{2}{\\sqrt{32}} |\\omega \\rangle) = 2 |\\psi_1 \\rangle  - |\\psi_1 \\rangle - \\frac{4}{\\sqrt{32}} |\\psi_1 \\rangle \\langle \\psi_1| \\omega \\rangle +\\frac{2}{\\sqrt{32}} | \\omega \\rangle$\n",
    "\n",
    "$U_{|\\psi_1 \\rangle}(|\\psi_1 \\rangle - \\frac{2}{\\sqrt{32}} |\\omega \\rangle) = 2 |\\psi_1 \\rangle  - |\\psi_1 \\rangle - \\frac{4}{32} |\\psi_1 \\rangle +\\frac{2}{\\sqrt{32}} | \\omega \\rangle$\n",
    "\n",
    "$U_{|\\psi_1 \\rangle}(|\\psi_1 \\rangle - \\frac{2}{\\sqrt{32}} |\\omega \\rangle) = \\frac{7}{8} |\\psi_1 \\rangle + \\frac{1}{2 \\sqrt{2}} | \\omega \\rangle = | \\psi_2 \\rangle$\n",
    "\n",
    "\n",
    "### Iteration 3\n",
    "$U_{\\omega}(|\\psi_2 \\rangle) = (I - 2|\\omega \\rangle \\langle \\omega|) |\\psi_2 \\rangle = |\\psi_2 \\rangle - (2 |\\omega \\rangle \\langle \\omega | \\psi_2 \\rangle ) = |\\psi_2 \\rangle - \\frac{2}{\\sqrt{32}} |\\omega \\rangle $\n",
    "\n",
    "$U_{|\\psi_2 \\rangle}(|\\psi_2 \\rangle - \\frac{2}{\\sqrt{32}} |\\omega \\rangle) = (2 |\\psi_2 \\rangle \\langle \\psi_2| - I) \\cdot (|\\psi_2 \\rangle - \\frac{2}{\\sqrt{32}} |\\omega \\rangle)$\n",
    "\n",
    "$U_{|\\psi_2 \\rangle}(|\\psi_2 \\rangle - \\frac{2}{\\sqrt{32}} |\\omega \\rangle) = (2 |\\psi_2 \\rangle \\langle \\psi_2| \\psi_2 \\rangle - |\\psi_2 \\rangle) - (\\frac{4}{\\sqrt{32}} |\\psi_2 \\rangle \\langle \\psi_2| \\omega \\rangle - \\frac{2}{\\sqrt{32}} | \\omega \\rangle)$\n",
    "\n",
    "$U_{|\\psi_2 \\rangle}(|\\psi_2 \\rangle - \\frac{2}{\\sqrt{32}} |\\omega \\rangle) = 2 |\\psi_2 \\rangle  - |\\psi_2 \\rangle - \\frac{4}{\\sqrt{32}} |\\psi_2 \\rangle \\langle \\psi_2| \\omega \\rangle +\\frac{2}{\\sqrt{32}} | \\omega \\rangle$\n",
    "\n",
    "$U_{|\\psi_2 \\rangle}(|\\psi_2 \\rangle - \\frac{2}{\\sqrt{32}} |\\omega \\rangle) = 2 |\\psi_2 \\rangle  - |\\psi_2 \\rangle - \\frac{4}{32} |\\psi_2 \\rangle +\\frac{2}{\\sqrt{32}} | \\omega \\rangle$\n",
    "\n",
    "$U_{|\\psi_2 \\rangle}(|\\psi_2 \\rangle - \\frac{2}{\\sqrt{32}} |\\omega \\rangle) = \\frac{7}{8} |\\psi_2 \\rangle + \\frac{1}{2 \\sqrt{2}} | \\omega \\rangle = | \\psi_3 \\rangle$\n",
    "\n",
    "### Simplification\n",
    "Known states:\n",
    "- $|\\psi_0 \\rangle = \\displaystyle \\frac{1}{\\sqrt{32}} \\sum_{x=0}^{31}|x \\rangle $\n",
    "- $| \\psi_1 \\rangle = \\frac{7}{8} |\\psi_0 \\rangle + \\frac{1}{2 \\sqrt{2}} | \\omega \\rangle$\n",
    "- $| \\psi_2 \\rangle = \\frac{7}{8} |\\psi_1 \\rangle + \\frac{1}{2 \\sqrt{2}} | \\omega \\rangle$\n",
    "- $| \\psi_3 \\rangle = \\frac{7}{8} |\\psi_2 \\rangle + \\frac{1}{2 \\sqrt{2}} | \\omega \\rangle$\n",
    "\n",
    "Simplifying:\n",
    "- $| \\psi_3 \\rangle = \\frac{7}{8}(\\frac{7}{8} |\\psi_1 \\rangle + \\frac{1}{2 \\sqrt{2}} | \\omega \\rangle) + \\frac{1}{2 \\sqrt{2}} | \\omega \\rangle$\n",
    "- $| \\psi_3 \\rangle = \\frac{49}{64} |\\psi_1 \\rangle + \\frac{15 \\sqrt{2}}{32}| \\omega \\rangle$\n",
    "- $| \\psi_3 \\rangle = \\frac{49}{64}(\\frac{7}{8} |\\psi_0 \\rangle + \\frac{1}{2 \\sqrt{2}} | \\omega \\rangle) + \\frac{15 \\sqrt{2}}{32}| \\omega \\rangle$\n",
    "- $| \\psi_3 \\rangle = \\frac{343}{512}|\\psi_0 \\rangle + \\frac{169 \\sqrt{2}}{256} | \\omega \\rangle$\n",
    "- $| \\psi_3 \\rangle = \\displaystyle \\frac{343 \\sqrt{2}}{4096} \\sum_{x=0}^{31}|x \\rangle + \\frac{169 \\sqrt{2}}{256} | \\omega \\rangle$"
   ]
  },
  {
   "cell_type": "markdown",
   "id": "2bd93c3f",
   "metadata": {},
   "source": [
    "## Question 2"
   ]
  },
  {
   "cell_type": "code",
   "execution_count": 5,
   "id": "93ddc755",
   "metadata": {},
   "outputs": [
    {
     "name": "stdout",
     "output_type": "stream",
     "text": [
      "test\n",
      "Backend Selected: ibm_brisbane\n"
     ]
    }
   ],
   "source": [
    "# Code source: https://learning.quantum.ibm.com/tutorial/grovers-algorithm\n",
    "\n",
    "# Oracle Function\n",
    "def grover_oracle(marked_states):\n",
    "    \"\"\"Build a Grover oracle for multiple marked states\n",
    "\n",
    "    Here we assume all input marked states have the same number of bits\n",
    "\n",
    "    Parameters:\n",
    "        marked_states (str or list): Marked states of oracle\n",
    "\n",
    "    Returns:\n",
    "        QuantumCircuit: Quantum circuit representing Grover oracle\n",
    "    \"\"\"\n",
    "    if not isinstance(marked_states, list):\n",
    "        marked_states = [marked_states]\n",
    "    # Compute the number of qubits in circuit\n",
    "    num_qubits = len(marked_states[0])\n",
    "\n",
    "    qc = QuantumCircuit(num_qubits)\n",
    "    # Mark each target state in the input list\n",
    "    for target in marked_states:\n",
    "        # Flip target bit-string to match Qiskit bit-ordering\n",
    "        rev_target = target[::-1]\n",
    "        # Find the indices of all the '0' elements in bit-string\n",
    "        zero_inds = [ind for ind in range(num_qubits) if rev_target.startswith(\"0\", ind)]\n",
    "        # Add a multi-controlled Z-gate with pre- and post-applied X-gates (open-controls)\n",
    "        # where the target bit-string has a '0' entry\n",
    "        qc.x(zero_inds)\n",
    "        qc.compose(MCMT(ZGate(), num_qubits - 1, 1), inplace=True)\n",
    "        qc.x(zero_inds)\n",
    "    return qc\n",
    "\n",
    "# To run on hardware, select the backend with the fewest number of jobs in the queue\n",
    "service = QiskitRuntimeService(channel=\"ibm_quantum\")\n",
    "backend = service.least_busy(operational=True, simulator=False)\n",
    "print(f\"Backend Selected: {backend.name}\")\n",
    "\n",
    "marked_states = [\"011\", \"100\"]\n",
    "oracle = grover_oracle(marked_states)\n",
    "oracle.draw(output=\"mpl\", style=\"iqp\")\n",
    "plt.show()"
   ]
  }
 ],
 "metadata": {
  "kernelspec": {
   "display_name": "Python 3 (ipykernel)",
   "language": "python",
   "name": "python3"
  },
  "language_info": {
   "codemirror_mode": {
    "name": "ipython",
    "version": 3
   },
   "file_extension": ".py",
   "mimetype": "text/x-python",
   "name": "python",
   "nbconvert_exporter": "python",
   "pygments_lexer": "ipython3",
   "version": "3.10.6"
  }
 },
 "nbformat": 4,
 "nbformat_minor": 5
}
